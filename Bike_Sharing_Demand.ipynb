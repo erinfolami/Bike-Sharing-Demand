{
  "nbformat": 4,
  "nbformat_minor": 0,
  "metadata": {
    "colab": {
      "name": "Bike_Sharing_Demand.ipynb",
      "provenance": []
    },
    "kernelspec": {
      "name": "python3",
      "display_name": "Python 3"
    }
  },
  "cells": [
    {
      "cell_type": "markdown",
      "metadata": {
        "id": "enQz9nPaxQik",
        "colab_type": "text"
      },
      "source": [
        "# Bike Sharing Demand"
      ]
    },
    {
      "cell_type": "markdown",
      "metadata": {
        "id": "juueQO3Mxdzt",
        "colab_type": "text"
      },
      "source": [
        "Reading the data"
      ]
    },
    {
      "cell_type": "code",
      "metadata": {
        "id": "5WWJuQCYw_u9",
        "colab_type": "code",
        "colab": {
          "base_uri": "https://localhost:8080/",
          "height": 170
        },
        "outputId": "bd1e8e79-3cee-467f-9408-5943ad54111b"
      },
      "source": [
        "import pandas as pd\n",
        "from matplotlib import pyplot as plt\n",
        "\n",
        "from google.colab import drive\n",
        "drive.mount('/content/drive')\n",
        "\n",
        "df = pd.read_csv(\"/content/drive/My Drive/hour.csv\")\n",
        "print(df.head())\n",
        "\n",
        "\n"
      ],
      "execution_count": null,
      "outputs": [
        {
          "output_type": "stream",
          "text": [
            "Drive already mounted at /content/drive; to attempt to forcibly remount, call drive.mount(\"/content/drive\", force_remount=True).\n",
            "   instant      dteday  season  yr  ...  windspeed  casual  registered  cnt\n",
            "0        1  2011-01-01       1   0  ...        0.0       3          13   16\n",
            "1        2  2011-01-01       1   0  ...        0.0       8          32   40\n",
            "2        3  2011-01-01       1   0  ...        0.0       5          27   32\n",
            "3        4  2011-01-01       1   0  ...        0.0       3          10   13\n",
            "4        5  2011-01-01       1   0  ...        0.0       0           1    1\n",
            "\n",
            "[5 rows x 17 columns]\n"
          ],
          "name": "stdout"
        }
      ]
    },
    {
      "cell_type": "code",
      "metadata": {
        "id": "Y09XYQr-y5LT",
        "colab_type": "code",
        "colab": {}
      },
      "source": [
        "#Renaming the columns\n",
        "df = df.rename({\"instant\":\"index\",\"yr\":\"year\",\"dteday\":\"date\",\"mnth\":\"month\",\"hr\":\"hour\",\"cnt\":\"Demand\"},axis=1)\n"
      ],
      "execution_count": null,
      "outputs": []
    },
    {
      "cell_type": "markdown",
      "metadata": {
        "id": "lsXNz0ytM1yL",
        "colab_type": "text"
      },
      "source": [
        "EDA & Feature Engineering"
      ]
    },
    {
      "cell_type": "code",
      "metadata": {
        "id": "RY83nGWj0Kjd",
        "colab_type": "code",
        "colab": {}
      },
      "source": [
        "#Feature Selection\n",
        "\n",
        "df = df.drop([\"index\",\"date\",\"casual\",\"registered\"],axis=1)\n",
        "# I have droped the casual and registered because they both mean the demand"
      ],
      "execution_count": null,
      "outputs": []
    },
    {
      "cell_type": "markdown",
      "metadata": {
        "id": "5A1TUpU410YB",
        "colab_type": "text"
      },
      "source": [
        "Checking for missing values"
      ]
    },
    {
      "cell_type": "code",
      "metadata": {
        "id": "nweg2YzF12wB",
        "colab_type": "code",
        "colab": {
          "base_uri": "https://localhost:8080/",
          "height": 34
        },
        "outputId": "0bb454ab-39fa-418c-96c4-67aae47ab6bd"
      },
      "source": [
        "null = df.isnull().sum().any()\n",
        "print(null)\n",
        "# As we can see there are no missing values"
      ],
      "execution_count": null,
      "outputs": [
        {
          "output_type": "stream",
          "text": [
            "False\n"
          ],
          "name": "stdout"
        }
      ]
    },
    {
      "cell_type": "markdown",
      "metadata": {
        "id": "B5z5iDeE2sWF",
        "colab_type": "text"
      },
      "source": [
        "Visualising the data"
      ]
    },
    {
      "cell_type": "code",
      "metadata": {
        "id": "nF7vzbUP2t9C",
        "colab_type": "code",
        "colab": {
          "base_uri": "https://localhost:8080/",
          "height": 297
        },
        "outputId": "a9ac3a0b-2a07-4ab8-e8b3-7ebfbf66d3f8"
      },
      "source": [
        "hist = df.hist()\n",
        "plt.tight_layout()\n",
        "#we can see Demand is not normally distributed"
      ],
      "execution_count": null,
      "outputs": [
        {
          "output_type": "display_data",
          "data": {
            "image/png": "[encoded data removed]",
            "text/plain": [
              "<Figure size 432x288 with 16 Axes>"
            ]
          },
          "metadata": {
            "tags": [],
            "needs_background": "light"
          }
        }
      ]
    },
    {
      "cell_type": "markdown",
      "metadata": {
        "id": "RReDnuId3OCF",
        "colab_type": "text"
      },
      "source": [
        "Visualization of  the continous features vs demand"
      ]
    },
    {
      "cell_type": "code",
      "metadata": {
        "id": "x42WAd6m2iWv",
        "colab_type": "code",
        "colab": {
          "base_uri": "https://localhost:8080/",
          "height": 334
        },
        "outputId": "e1e51d72-ea69-48c7-b205-ac83b7927f73"
      },
      "source": [
        "\n",
        "plt.subplot(2,2,1)\n",
        "plt.title(\"Temperature vs Demand\")\n",
        "plt.scatter(df[\"temp\"],df[\"Demand\"],s=2)\n",
        "\n",
        "\n",
        "plt.subplot(2,2,2)\n",
        "plt.title(\"ATemperature vs Demand\")\n",
        "plt.scatter(df[\"atemp\"],df[\"Demand\"])\n",
        "\n",
        "plt.subplot(2,2,3)\n",
        "plt.title(\"Humidity vs Demand\")\n",
        "plt.scatter(df[\"hum\"],df[\"Demand\"])\n",
        "\n",
        "plt.subplot(2,2,4)\n",
        "plt.title(\"windspeed vs Demand\")\n",
        "plt.scatter(df[\"windspeed\"],df[\"Demand\"])\n",
        "plt.tight_layout()\n",
        "\n",
        "plt.show()\n",
        "\"\"\"By plotting this visualisation  we can see that temp and atemp have a very similar\n",
        "correlation, but we shouldn't make the decision of multicollinearity yet we should \n",
        "check for pearson correlation to see if it should be dropped or not\"\"\"\n"
      ],
      "execution_count": null,
      "outputs": [
        {
          "output_type": "display_data",
          "data": {
            "image/png": "[encoded data removed]",
            "text/plain": [
              "<Figure size 432x288 with 4 Axes>"
            ]
          },
          "metadata": {
            "tags": [],
            "needs_background": "light"
          }
        },
        {
          "output_type": "execute_result",
          "data": {
            "text/plain": [
              "\"By plotting this visualisation  we can see that temp and atemp have a very similar\\ncorrelation, but we shouldn't make the decision of multicollinearity yet we should \\ncheck for pearson correlation to see if it should be dropped or not\""
            ]
          },
          "metadata": {
            "tags": []
          },
          "execution_count": 79
        }
      ]
    },
    {
      "cell_type": "code",
      "metadata": {
        "id": "Gz6mnfQl4lWS",
        "colab_type": "code",
        "colab": {
          "base_uri": "https://localhost:8080/",
          "height": 298
        },
        "outputId": "5a09569e-e68e-4b6f-89a8-b966e643c58b"
      },
      "source": [
        "#Now lets find what hour people rent bike the most\n",
        "\n",
        "colors = [\"b\",\"r\",\"g\"]\n",
        "unq_hour = df[\"hour\"].unique()\n",
        "avg_sea_dem = df.groupby(\"hour\").mean()[\"Demand\"]\n",
        "plt.bar(unq_hour,avg_sea_dem,color = colors)\n",
        "plt.title(\"Average Demand Per Hour\")\n",
        "#We can say that people prefer the morning and evening times for renting bike\n",
        "\n"
      ],
      "execution_count": null,
      "outputs": [
        {
          "output_type": "execute_result",
          "data": {
            "text/plain": [
              "Text(0.5, 1.0, 'Average Demand Per Hour')"
            ]
          },
          "metadata": {
            "tags": []
          },
          "execution_count": 80
        },
        {
          "output_type": "display_data",
          "data": {
            "image/png": "[encoded data removed]",
            "text/plain": [
              "<Figure size 432x288 with 1 Axes>"
            ]
          },
          "metadata": {
            "tags": [],
            "needs_background": "light"
          }
        }
      ]
    },
    {
      "cell_type": "markdown",
      "metadata": {
        "id": "UT_ORC4J6uVw",
        "colab_type": "text"
      },
      "source": [
        "visualising the categorical features w.r.t the average Demand per supply"
      ]
    },
    {
      "cell_type": "code",
      "metadata": {
        "id": "5gfMcugy6qAN",
        "colab_type": "code",
        "colab": {
          "base_uri": "https://localhost:8080/",
          "height": 334
        },
        "outputId": "7332611f-f5ea-41e9-c39a-8aedadf39d7b"
      },
      "source": [
        "\n",
        "\n",
        "colors = [\"b\",\"y\",\"r\",\"g\"]\n",
        "plt.subplot(3,3,1)\n",
        "unq_sea = df[\"season\"].unique()\n",
        "avg_sea_dem = df.groupby(\"season\").mean()[\"Demand\"]\n",
        "plt.bar(unq_sea,avg_sea_dem,color = colors )\n",
        "plt.title(\"Average Demand Per Season\",fontsize = 9)\n",
        "\n",
        "\n",
        "plt.subplot(3,3,2)\n",
        "unq_hol = df[\"holiday\"].unique()\n",
        "avg_sea_dem = df.groupby(\"holiday\").mean()[\"Demand\"]\n",
        "plt.bar(unq_hol,avg_sea_dem,color = colors )\n",
        "plt.title(\"Average Demand Per Holiday\",fontsize = 9)\n",
        "\n",
        "plt.subplot(3,3,3)\n",
        "unq_work = df[\"workingday\"].unique()\n",
        "avg_sea_dem = df.groupby(\"workingday\").mean()[\"Demand\"]\n",
        "plt.bar(unq_work,avg_sea_dem,color = colors )\n",
        "plt.title(\"Average Demand Per WorkingDay\",fontsize = 8)\n",
        "\n",
        "plt.subplot(3,3,4)\n",
        "unq_mon = df[\"month\"].unique()\n",
        "avg_sea_dem = df.groupby(\"month\").mean()[\"Demand\"]\n",
        "plt.bar(unq_mon,avg_sea_dem,color = colors )\n",
        "plt.title(\"Average Demand Per Month\",fontsize = 9)\n",
        "\n",
        "plt.subplot(3,3,5)\n",
        "unq_week = df[\"weekday\"].unique()\n",
        "unq_week.sort()\n",
        "avg_sea_dem = df.groupby(\"weekday\").mean()[\"Demand\"]\n",
        "plt.bar(unq_week,avg_sea_dem,color = colors)\n",
        "plt.title(\"Average Demand Per Month\",fontsize = 9)\n",
        "\n",
        "plt.subplot(3,3,6)\n",
        "unq_hour = df[\"hour\"].unique()\n",
        "avg_sea_dem = df.groupby(\"hour\").mean()[\"Demand\"]\n",
        "plt.bar(unq_hour,avg_sea_dem,color = colors)\n",
        "plt.title(\"Average Demand Per Hour\",fontsize = 9)\n",
        "\n",
        "plt.subplot(3,3,7)\n",
        "unq_wea = df[\"weathersit\"].unique()\n",
        "avg_sea_dem = df.groupby(\"weathersit\").mean()[\"Demand\"]\n",
        "plt.bar(unq_wea,avg_sea_dem,color = colors)\n",
        "plt.title(\"Average Demand Per Weathersit\",fontsize = 9)\n",
        "\n",
        "\n",
        "plt.subplot(3,3,8)\n",
        "unq_year = df[\"year\"].unique()\n",
        "avg_sea_dem = df.groupby(\"year\").mean()[\"Demand\"]\n",
        "plt.bar(unq_year,avg_sea_dem,color = colors)\n",
        "plt.title(\"Average Demand Per Year\",fontsize = 9)\n",
        "\n",
        "plt.tight_layout() #this splits the plots\n",
        "\n",
        "\"\"\"We can see that the Demand doesn't have much to do with the - day of the week(Weekday) and the Workingday  so it will be better if we drop this features.\n",
        "we can also see that the demand per year has  a trend but the problem is that its limited to two years and -we dont know how the trend will be for other years\n",
        "so its better if the year isn't considered for now..*Based on our visualisation we can also see that Spring Season has got relatively lower Demand.\"\"\"\n",
        "\n"
      ],
      "execution_count": null,
      "outputs": [
        {
          "output_type": "execute_result",
          "data": {
            "text/plain": [
              "\"We can see that the Demand doesn't have much to do with the - day of the week(Weekday) and the Workingday  so it will be better if we drop this features.\\nwe can also see that the demand per year has  a trend but the problem is that its limited to two years and -we dont know how the trend will be for other years\\nso its better if the year isn't considered for now..*Based on our visualisation we can also see that Spring Season has got relatively lower Demand.\""
            ]
          },
          "metadata": {
            "tags": []
          },
          "execution_count": 81
        },
        {
          "output_type": "display_data",
          "data": {
            "image/png": "[encoded data removed]",
            "text/plain": [
              "<Figure size 432x288 with 8 Axes>"
            ]
          },
          "metadata": {
            "tags": [],
            "needs_background": "light"
          }
        }
      ]
    },
    {
      "cell_type": "markdown",
      "metadata": {
        "id": "rePgvjb1CH5c",
        "colab_type": "text"
      },
      "source": [
        "Checking continous variable correlation and multicollinearity using heatmap"
      ]
    },
    {
      "cell_type": "code",
      "metadata": {
        "id": "0FhRCBZS_UyW",
        "colab_type": "code",
        "colab": {
          "base_uri": "https://localhost:8080/",
          "height": 286
        },
        "outputId": "c7142b4f-de7b-4671-c635-42993fb197ca"
      },
      "source": [
        "import seaborn as sns\n",
        "\n",
        "cor = df[[\"atemp\",\"temp\",\"hum\",\"windspeed\",\"Demand\"]].corr()   \n",
        "sns.heatmap(cor,annot=True)\n",
        "#atemp column should be dropped because it has very high multicollinearity"
      ],
      "execution_count": null,
      "outputs": [
        {
          "output_type": "execute_result",
          "data": {
            "text/plain": [
              "<matplotlib.axes._subplots.AxesSubplot at 0x7f6ded4fb240>"
            ]
          },
          "metadata": {
            "tags": []
          },
          "execution_count": 82
        },
        {
          "output_type": "display_data",
          "data": {
            "image/png": "[encoded data removed]",
            "text/plain": [
              "<Figure size 432x288 with 2 Axes>"
            ]
          },
          "metadata": {
            "tags": [],
            "needs_background": "light"
          }
        }
      ]
    },
    {
      "cell_type": "code",
      "metadata": {
        "id": "Ve96jrM9uMQA",
        "colab_type": "code",
        "colab": {}
      },
      "source": [
        "#dropping irrelevant columns\n",
        "df = df.drop([\"atemp\",\"windspeed\",\"weekday\",\"workingday\",\"year\"],axis=1)"
      ],
      "execution_count": null,
      "outputs": []
    },
    {
      "cell_type": "markdown",
      "metadata": {
        "id": "UA9J_CGMHQhJ",
        "colab_type": "text"
      },
      "source": [
        "Converting the Demand variable to Gausian distribution(norminal) by applying log transformation"
      ]
    },
    {
      "cell_type": "code",
      "metadata": {
        "id": "yVIHFsGOHPf2",
        "colab_type": "code",
        "colab": {
          "base_uri": "https://localhost:8080/",
          "height": 180
        },
        "outputId": "142adb6f-57b9-4083-8bc2-c2db3adbd61f"
      },
      "source": [
        "import numpy as np\n",
        "#converting the Demand variable to Gausian distribution(norminal) by applying log transformation\n",
        "plt.subplot(2,2,1)\n",
        "df[\"Demand\"].hist(bins=15)\n",
        "plt.title(\"without log transformation\")\n",
        "\n",
        "df[\"Demand\"] = np.log(df[\"Demand\"])\n",
        "plt.subplot(2,2,2)\n",
        "df[\"Demand\"].hist(bins=15)\n",
        "plt.title(\"log transformation applied\")\n"
      ],
      "execution_count": null,
      "outputs": [
        {
          "output_type": "execute_result",
          "data": {
            "text/plain": [
              "Text(0.5, 1.0, 'log transformation applied')"
            ]
          },
          "metadata": {
            "tags": []
          },
          "execution_count": 84
        },
        {
          "output_type": "display_data",
          "data": {
            "image/png": "[encoded data removed]",
            "text/plain": [
              "<Figure size 432x288 with 2 Axes>"
            ]
          },
          "metadata": {
            "tags": [],
            "needs_background": "light"
          }
        }
      ]
    },
    {
      "cell_type": "markdown",
      "metadata": {
        "id": "Om4UtBxsaPfs",
        "colab_type": "text"
      },
      "source": [
        "Using Cross Validation to find the algorithm that gives the best performance"
      ]
    },
    {
      "cell_type": "markdown",
      "metadata": {
        "id": "wF24PLxlnQEY",
        "colab_type": "text"
      },
      "source": [
        "Importing warning "
      ]
    },
    {
      "cell_type": "code",
      "metadata": {
        "id": "cplipEKWnKdm",
        "colab_type": "code",
        "colab": {}
      },
      "source": [
        "import warnings\n",
        "warnings.filterwarnings(\"ignore\")"
      ],
      "execution_count": null,
      "outputs": []
    },
    {
      "cell_type": "code",
      "metadata": {
        "id": "NEX1TwPUKv-P",
        "colab_type": "code",
        "colab": {}
      },
      "source": [
        "x = df.drop(\"Demand\",axis=1)\n",
        "y = df[\"Demand\"]\n",
        "\n",
        "import xgboost as xgb\n",
        "from sklearn.ensemble import forest \n",
        "from sklearn import tree\n",
        "from sklearn import linear_model\n",
        "from sklearn.model_selection import train_test_split\n",
        "from sklearn.model_selection import cross_val_score\n",
        "import statistics as stats\n",
        "\n",
        "\n"
      ],
      "execution_count": null,
      "outputs": []
    },
    {
      "cell_type": "code",
      "metadata": {
        "id": "RQZXh3EPjRmS",
        "colab_type": "code",
        "colab": {
          "base_uri": "https://localhost:8080/",
          "height": 187
        },
        "outputId": "ee342816-b7b6-4031-da21-2e87cfa0019a"
      },
      "source": [
        "xg = xgb.XGBRegressor() \n",
        "fo =  forest.RandomForestRegressor()\n",
        "tr = tree.DecisionTreeRegressor()\n",
        "lin = linear_model.LinearRegression()\n",
        "\n",
        "xgb_score = cross_val_score(xg,x,y)\n",
        "ran_score = cross_val_score(fo,x,y)\n",
        "dtree_score = cross_val_score(tr,x,y)\n",
        "log_score = cross_val_score(lin,x,y)\n",
        "\n",
        "df_score = pd.DataFrame({\"model\":[\"XGBRegressor\",\"RandomForestRegressor\",\"DecisionTreeRegressor\",\"LinearRegression\"],\"score\":[stats.mean(xgb_score),stats.mean(ran_score),stats.mean(dtree_score),stats.mean(log_score)]})\n",
        "print(df_score)"
      ],
      "execution_count": null,
      "outputs": [
        {
          "output_type": "stream",
          "text": [
            "[16:05:05] WARNING: /workspace/src/objective/regression_obj.cu:152: reg:linear is now deprecated in favor of reg:squarederror.\n",
            "[16:05:05] WARNING: /workspace/src/objective/regression_obj.cu:152: reg:linear is now deprecated in favor of reg:squarederror.\n",
            "[16:05:06] WARNING: /workspace/src/objective/regression_obj.cu:152: reg:linear is now deprecated in favor of reg:squarederror.\n",
            "[16:05:06] WARNING: /workspace/src/objective/regression_obj.cu:152: reg:linear is now deprecated in favor of reg:squarederror.\n",
            "[16:05:07] WARNING: /workspace/src/objective/regression_obj.cu:152: reg:linear is now deprecated in favor of reg:squarederror.\n",
            "                   model     score\n",
            "0           XGBRegressor  0.718975\n",
            "1  RandomForestRegressor  0.677655\n",
            "2  DecisionTreeRegressor  0.518100\n",
            "3       LinearRegression  0.363089\n"
          ],
          "name": "stdout"
        }
      ]
    },
    {
      "cell_type": "code",
      "metadata": {
        "id": "7c3_sa_ahDPy",
        "colab_type": "code",
        "colab": {}
      },
      "source": [
        "#Spltting the dataframe into training and testing sample of 80% and 20% respectively.\n",
        "x_train,x_test,y_train,y_test = train_test_split(x,y,test_size=0.20,random_state=0)"
      ],
      "execution_count": null,
      "outputs": []
    },
    {
      "cell_type": "code",
      "metadata": {
        "id": "Yrar3c8bh0ld",
        "colab_type": "code",
        "colab": {}
      },
      "source": [
        "# # !pip install scikit-optimize\n",
        "# import numpy as np\n",
        "# from skopt import BayesSearchCV\n",
        "# from sklearn.model_selection import GridSearchCV\n",
        "# warnings.filterwarnings(\"ignore\")\n",
        "\n",
        "# #Optimizing Parameters\n",
        "# model = xgb.XGBRegressor()\n",
        "# param = {\"max_depth\":[3,4,5,8,9],\"subsample\":[0.6,0.7,1.0],\"colsample_bytree\":[0.6,0.9,1.0],\"min_child_weight\":[1,2,3,6,1],\"learning_rate\":[0.01,0.1,1.0,0.3,0.5]}\n",
        "# #search = BayesSearchCV(model,param)\n",
        "# search = GridSearchCV(model,param)\n",
        "# Bayes_search = search.fit(x_train,y_train)\n",
        "# print(Bayes_search.best_params_)\n",
        "\n"
      ],
      "execution_count": null,
      "outputs": []
    },
    {
      "cell_type": "code",
      "metadata": {
        "id": "kLh02dTfZQa5",
        "colab_type": "code",
        "colab": {
          "base_uri": "https://localhost:8080/",
          "height": 51
        },
        "outputId": "a0814c57-5202-4221-adaf-9053bdf39211"
      },
      "source": [
        "from sklearn.metrics import mean_squared_error\n",
        "import math\n",
        "import warnings\n",
        "warnings.filterwarnings(\"ignore\")\n",
        "\n",
        "model = xgb.XGBRegressor(colsample_bytree=0.9,learning_rate=0.2,max_depth=7,min_child_weight=2,subsample=1.0)\n",
        "model = model.fit(x_train,y_train)\n",
        "tst_score = model.score(x_test,y_test)\n",
        "tr_score = model.score(x_train,y_train)\n",
        "print(f'test score = {tst_score},train score = {tr_score}')\n",
        "##original score = 0.8016637982351097\n",
        "#root mean squared error\n",
        "#ypred = model.predict(x_test)\n",
        "# metric = math.sqrt(mean_squared_error(y_test,ypred))\n",
        "# print(metric)\n",
        "\n"
      ],
      "execution_count": null,
      "outputs": [
        {
          "output_type": "stream",
          "text": [
            "[16:05:25] WARNING: /workspace/src/objective/regression_obj.cu:152: reg:linear is now deprecated in favor of reg:squarederror.\n",
            "test score = 0.8141466920278808,train score = 0.8932542693979637\n"
          ],
          "name": "stdout"
        }
      ]
    },
    {
      "cell_type": "code",
      "metadata": {
        "id": "sU5Xc2PJrH01",
        "colab_type": "code",
        "colab": {}
      },
      "source": [
        ""
      ],
      "execution_count": null,
      "outputs": []
    },
    {
      "cell_type": "code",
      "metadata": {
        "id": "cBZUVxhktdQv",
        "colab_type": "code",
        "colab": {}
      },
      "source": [
        ""
      ],
      "execution_count": null,
      "outputs": []
    }
  ]
}